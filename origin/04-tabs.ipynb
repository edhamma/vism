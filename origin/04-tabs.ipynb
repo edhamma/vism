{
 "cells": [
  {
   "cell_type": "code",
   "execution_count": 1,
   "id": "f21fc845-2e63-4860-b0bd-e9a925e0efd7",
   "metadata": {},
   "outputs": [],
   "source": [
    "import openpyxl\n",
    "from packaging import version\n",
    "assert version.parse(openpyxl.__version__)>=version.parse('3.1.0')\n",
    "from lxml import etree\n"
   ]
  },
  {
   "cell_type": "code",
   "execution_count": 163,
   "id": "293246f8-f761-41ff-97ff-2fca1d1ae9b2",
   "metadata": {},
   "outputs": [],
   "source": [
    "def fix_xlsx_encoding(xlsx0,xlsx1):\n",
    "    c0='áÁòÒóÓþÞìÌúÚíÍ¿÷²ðåõºøý' +'\\n'\n",
    "    c1='āĀṅṄṇṆṭṬīÌūŪṃṂḷēĕḍṣōṛśḥ' +'\\n'\n",
    "    c01=str.maketrans(c0,c1)\n",
    "    from openpyxl.cell.rich_text import CellRichText\n",
    "\n",
    "    wb=openpyxl.load_workbook(xlsx0,rich_text=True)\n",
    "    for sheet in wb:\n",
    "        for row in sheet:\n",
    "            for cell in row:\n",
    "                if cell.value is None: pass\n",
    "                elif isinstance(cell.value,CellRichText):\n",
    "                    for span in cell.value: span.text=span.text.translate(c01)\n",
    "                else:\n",
    "                    cell.value=cell.value.translate(c01)\n",
    "    wb.save(xlsx1)\n",
    "#fix_xlsx_encoding('raw-intro-ceylon-king-tab.0.xlsx','raw-intro-ceylon-king-tab.xlsx')\n",
    "fix_xlsx_encoding('raw-intro-commentaries.0.xlsx','raw-intro-commentaries.xlsx')"
   ]
  },
  {
   "cell_type": "code",
   "execution_count": 59,
   "id": "83a76ba7-4ae4-4255-854a-e9bb5e8e3122",
   "metadata": {},
   "outputs": [
    {
     "data": {
      "text/plain": [
       "True"
      ]
     },
     "execution_count": 59,
     "metadata": {},
     "output_type": "execute_result"
    }
   ],
   "source": [
    "# for t in rc.value: print(t)\n",
    "#v0=rc.value[0]\n",
    "#\n",
    "rc.column==2"
   ]
  },
  {
   "cell_type": "code",
   "execution_count": 204,
   "id": "21b646c6-480b-4f1e-9154-1d3146f01cc1",
   "metadata": {},
   "outputs": [],
   "source": [
    "import re\n",
    "from lxml import etree\n",
    "\n",
    "def _E(e,text=None,*,subs=[],xml_id=None,**kw):\n",
    "    assert text is None or isinstance(text,str)\n",
    "    ret=etree.Element(e,**kw)# ,nsmap={None:'http://docbook.org/ns/docbook','pub':pubNs})\n",
    "    if xml_id is not None: ret.attrib['id']=xml_id\n",
    "    ret.text=text\n",
    "    for sub in subs:\n",
    "        if sub is None: continue\n",
    "        if sub.tag=='__FLATTEN__':\n",
    "            for su in sub: ret.append(su)\n",
    "        else: ret.append(sub)\n",
    "    return ret\n",
    "\n",
    "\n",
    "## references to bibliography\n",
    "refRomDec=re.compile(r'(?P<book>S|M|D|A|A-a|Dhp-a|J-a|M-a|Paṭis|S-a|Vism|Nidd|Paṭṭh|Vin)(?P<loc>\\s+[XIVC]+\\s+[0-9–]+(f\\.)?)')\n",
    "\n",
    "# |Nidd\\s+I+|Paṭṭh\\s+I+|Vin\\s+[IV]+\n",
    "refDec=re.compile(r'''\n",
    "    # (\\b|^)\n",
    "    (?P<book>Sn|Ud|Cp|Cp-a|Dhp|Dhs|Dhs-a|Dhs-ṭ|Dhātuk|It|Kv|Kathāvatthu|Mil|Netti|Nikāya-s|Paṭis-a|Peṭ|Pv|Sn-a|Th|Vibh|Vibh-a|Vibh-ṭ|Vv|Vism-mhṭ|Vism mhṭ)\n",
    "    (?P<loc>\n",
    "        (\\s+|,)\n",
    "        (\n",
    "            [0-9§.–]+\n",
    "            |\n",
    "            \\(p.\\s*[0-9.–]+\\)\n",
    "            |\n",
    "            \\s*p\\.\\s*[0-9]+\n",
    "        )\n",
    "        (f\\.|\\b|$)?\n",
    "    )\n",
    "''',re.X)\n",
    "refMhv=re.compile(r'(?P<book>Mhv)(?P<loc>(\\s+pp\\.)?\\s+[0-9XIV.–]+)')\n",
    "# make sure the suffixed variants (like Dhs-a) come before the stem (like Dhs), otherwise the stem matches first\n",
    "refLone=re.compile(r'(^|\\b)(?P<book>Sn|Ud|Cp|Cp-a|Dhp|Dhs-a|Dhs-ṭ|Dhs|Dhātuk|Kv|Mil|Netti|Nikāya-s|Paṭis-a|Peṭ|Pv|Sn-a|Th|Vibh-a|Vibh-ṭ|Vibh|Vv|Vism-mhṭ|Vism mhṭ|A-a|Dhp|Dhp-a|J-a|M-a|Paṭis|S-a|Vin|Nidd|Paṭṭh)(\\b|$)')\n",
    "\n",
    "import unidecode\n",
    "\n",
    "def _matchHeadTail(m):\n",
    "    return m.string[:m.span()[0]],m.string[m.span()[1]:]\n",
    "\n",
    "\n",
    "def _leaf(txt,fmt,em):\n",
    "    def _leaf_txt(t):\n",
    "        #if fmt in ('latex','rst'): return t\n",
    "        if fmt=='latex': return ('\\\\emph{'+t+'}' if em else t)\n",
    "        elif fmt=='rst': return (f'\\*{t}\\*' if em else t)\n",
    "        elif fmt=='docbook': return _E('emphasis' if em else 'phrase',t)\n",
    "    ret=[]\n",
    "    # print(txt)\n",
    "    book=None\n",
    "    while (\n",
    "           (bibm:=refRomDec.search(txt))\n",
    "        or (bibm:=refDec.search(txt))\n",
    "        or (bibm:=refLone.search(txt))\n",
    "        or (bibm:=refMhv.search(txt))\n",
    "    ):\n",
    "        head,tail=_matchHeadTail(bibm)\n",
    "        book=bibm.group('book')\n",
    "        loc=(bibm.group('loc').replace('\\n',' ') if 'loc' in bibm.groupdict() else None)\n",
    "        # if book=='Vin': print(f'{head=} {book=} {loc=} {tail=}')\n",
    "        if head is not None and len(head)>0: ret.append(_leaf_txt(head))\n",
    "        if fmt=='latex': ret+=[r'\\textbf{\\cite{'+book+'}'+(loc if loc else '')+'}']\n",
    "        elif fmt=='rst': ret+=[f' [{book}]_ '+(f'*{loc.strip()}* ' if (loc is not None and len(loc.strip())>0) else ' ')]\n",
    "        elif fmt=='docbook':\n",
    "            if loc: ret+=[_E('phrase',subs=[_E('citation',book),_E('phrase',loc)])]\n",
    "            else: ret+=[_E('citation',book)]\n",
    "        txt=tail\n",
    "    if len(txt)>0: ret.append(_leaf_txt(txt))\n",
    "    if False and book=='Vin':\n",
    "        def _show(ee,lev=0):\n",
    "            for e in ee:\n",
    "                print(lev*'  '+f'{e.tag=} {e.text=}')\n",
    "                if len(e)>0: _show(e,lev=lev+1)\n",
    "        _show(ret)\n",
    "        print(etree.tostring(_E('RET',subs=ret),encoding='unicode',pretty_print=True))\n",
    "        #for e in ret:\n",
    "        #            print('   ',e.text)\n",
    "    return ret\n",
    "\n",
    "    # _splitSpan(span,head,[mkVismRef(text=bibm.group(0),target=bibTargetFixes.get(book,book),type='bib',loc=loc)],tail)\n",
    "\n",
    "\n",
    "\n"
   ]
  },
  {
   "cell_type": "code",
   "execution_count": 206,
   "id": "4c68971c-74c4-49e8-a339-ae6b4dfc9460",
   "metadata": {},
   "outputs": [],
   "source": [
    "# print(xlsx_to_vism('raw-intro-ceylon-king-tab.xlsx',fmt='docbook',sheet='Sheet1',pretty_print=True))"
   ]
  },
  {
   "cell_type": "code",
   "execution_count": 207,
   "id": "2cd61b30-1eaa-452f-add3-df0eceb4bbc0",
   "metadata": {},
   "outputs": [
    {
     "name": "stdout",
     "output_type": "stream",
     "text": [
      "→ ../docbook/raw-intro-ceylon-king-tab.xml\n",
      "→ ../latex/raw-intro-ceylon-king-tab.tex\n"
     ]
    },
    {
     "ename": "AttributeError",
     "evalue": "'NoneType' object has no attribute 'strip'",
     "output_type": "error",
     "traceback": [
      "\u001b[0;31m---------------------------------------------------------------------------\u001b[0m",
      "\u001b[0;31mAttributeError\u001b[0m                            Traceback (most recent call last)",
      "\u001b[0;32m/tmp/ipykernel_1566345/3712303448.py\u001b[0m in \u001b[0;36m<module>\u001b[0;34m\u001b[0m\n\u001b[1;32m     49\u001b[0m             \u001b[0msuffix\u001b[0m\u001b[0;34m=\u001b[0m\u001b[0;34m(\u001b[0m\u001b[0;34m'-'\u001b[0m\u001b[0;34m+\u001b[0m\u001b[0msheet\u001b[0m \u001b[0;32mif\u001b[0m \u001b[0mlen\u001b[0m\u001b[0;34m(\u001b[0m\u001b[0msheets\u001b[0m\u001b[0;34m)\u001b[0m\u001b[0;34m>\u001b[0m\u001b[0;36m1\u001b[0m \u001b[0;32melse\u001b[0m \u001b[0;34m''\u001b[0m\u001b[0;34m)\u001b[0m\u001b[0;34m\u001b[0m\u001b[0;34m\u001b[0m\u001b[0m\n\u001b[1;32m     50\u001b[0m             \u001b[0mout\u001b[0m\u001b[0;34m=\u001b[0m\u001b[0;34m{\u001b[0m\u001b[0;34m'docbook'\u001b[0m\u001b[0;34m:\u001b[0m\u001b[0;34mf'../docbook/{tab}{suffix}.xml'\u001b[0m\u001b[0;34m,\u001b[0m\u001b[0;34m'latex'\u001b[0m\u001b[0;34m:\u001b[0m\u001b[0;34mf'../latex/{tab}{suffix}.tex'\u001b[0m\u001b[0;34m,\u001b[0m\u001b[0;34m'rst'\u001b[0m\u001b[0;34m:\u001b[0m\u001b[0;34mf'../sphinx/{tab}{suffix}.rst'\u001b[0m\u001b[0;34m}\u001b[0m\u001b[0;34m[\u001b[0m\u001b[0mfmt\u001b[0m\u001b[0;34m]\u001b[0m\u001b[0;34m\u001b[0m\u001b[0;34m\u001b[0m\u001b[0m\n\u001b[0;32m---> 51\u001b[0;31m             \u001b[0mopen\u001b[0m\u001b[0;34m(\u001b[0m\u001b[0mout\u001b[0m\u001b[0;34m,\u001b[0m\u001b[0;34m'w'\u001b[0m\u001b[0;34m)\u001b[0m\u001b[0;34m.\u001b[0m\u001b[0mwrite\u001b[0m\u001b[0;34m(\u001b[0m\u001b[0mxlsx_to_vism\u001b[0m\u001b[0;34m(\u001b[0m\u001b[0mxlsx\u001b[0m\u001b[0;34m,\u001b[0m\u001b[0mfmt\u001b[0m\u001b[0;34m=\u001b[0m\u001b[0mfmt\u001b[0m\u001b[0;34m,\u001b[0m\u001b[0msheet\u001b[0m\u001b[0;34m=\u001b[0m\u001b[0msheet\u001b[0m\u001b[0;34m,\u001b[0m\u001b[0mpretty_print\u001b[0m\u001b[0;34m=\u001b[0m\u001b[0;32mTrue\u001b[0m\u001b[0;34m)\u001b[0m\u001b[0;34m)\u001b[0m\u001b[0;34m\u001b[0m\u001b[0;34m\u001b[0m\u001b[0m\n\u001b[0m\u001b[1;32m     52\u001b[0m             \u001b[0mprint\u001b[0m\u001b[0;34m(\u001b[0m\u001b[0;34mf'→ {out}'\u001b[0m\u001b[0;34m)\u001b[0m\u001b[0;34m\u001b[0m\u001b[0;34m\u001b[0m\u001b[0m\n",
      "\u001b[0;32m/tmp/ipykernel_1566345/3712303448.py\u001b[0m in \u001b[0;36mxlsx_to_vism\u001b[0;34m(xlsx, fmt, sheet, pretty_print)\u001b[0m\n\u001b[1;32m     26\u001b[0m                     \u001b[0mret\u001b[0m\u001b[0;34m+=\u001b[0m\u001b[0m_leaf\u001b[0m\u001b[0;34m(\u001b[0m\u001b[0mspan\u001b[0m\u001b[0;34m.\u001b[0m\u001b[0mtext\u001b[0m\u001b[0;34m,\u001b[0m\u001b[0mem\u001b[0m\u001b[0;34m=\u001b[0m\u001b[0mspan\u001b[0m\u001b[0;34m.\u001b[0m\u001b[0mfont\u001b[0m\u001b[0;34m.\u001b[0m\u001b[0mi\u001b[0m\u001b[0;34m,\u001b[0m\u001b[0mfmt\u001b[0m\u001b[0;34m=\u001b[0m\u001b[0mfmt\u001b[0m\u001b[0;34m)\u001b[0m\u001b[0;34m\u001b[0m\u001b[0;34m\u001b[0m\u001b[0m\n\u001b[1;32m     27\u001b[0m             \u001b[0;32melse\u001b[0m\u001b[0;34m:\u001b[0m\u001b[0;34m\u001b[0m\u001b[0;34m\u001b[0m\u001b[0m\n\u001b[0;32m---> 28\u001b[0;31m                 \u001b[0mret\u001b[0m\u001b[0;34m+=\u001b[0m\u001b[0m_leaf\u001b[0m\u001b[0;34m(\u001b[0m\u001b[0mcell\u001b[0m\u001b[0;34m.\u001b[0m\u001b[0mvalue\u001b[0m\u001b[0;34m,\u001b[0m\u001b[0mem\u001b[0m\u001b[0;34m=\u001b[0m\u001b[0mcell\u001b[0m\u001b[0;34m.\u001b[0m\u001b[0mfont\u001b[0m\u001b[0;34m.\u001b[0m\u001b[0mi\u001b[0m\u001b[0;34m,\u001b[0m\u001b[0mfmt\u001b[0m\u001b[0;34m=\u001b[0m\u001b[0mfmt\u001b[0m\u001b[0;34m)\u001b[0m\u001b[0;34m\u001b[0m\u001b[0;34m\u001b[0m\u001b[0m\n\u001b[0m\u001b[1;32m     29\u001b[0m             \u001b[0;32mif\u001b[0m \u001b[0mfmt\u001b[0m\u001b[0;34m==\u001b[0m\u001b[0;34m'docbook'\u001b[0m\u001b[0;34m:\u001b[0m \u001b[0mtRow\u001b[0m\u001b[0;34m.\u001b[0m\u001b[0mappend\u001b[0m\u001b[0;34m(\u001b[0m\u001b[0m_E\u001b[0m\u001b[0;34m(\u001b[0m\u001b[0;34m'td'\u001b[0m\u001b[0;34m,\u001b[0m\u001b[0msubs\u001b[0m\u001b[0;34m=\u001b[0m\u001b[0mret\u001b[0m\u001b[0;34m,\u001b[0m\u001b[0mvalign\u001b[0m\u001b[0;34m=\u001b[0m\u001b[0;34m'top'\u001b[0m\u001b[0;34m)\u001b[0m\u001b[0;34m)\u001b[0m\u001b[0;34m\u001b[0m\u001b[0;34m\u001b[0m\u001b[0m\n\u001b[1;32m     30\u001b[0m         \u001b[0;32mif\u001b[0m \u001b[0mfmt\u001b[0m\u001b[0;34m==\u001b[0m\u001b[0;34m'latex'\u001b[0m\u001b[0;34m:\u001b[0m \u001b[0mret\u001b[0m\u001b[0;34m+=\u001b[0m\u001b[0;34m(\u001b[0m\u001b[0;34m'\\\\\\\\'\u001b[0m \u001b[0;32mif\u001b[0m \u001b[0miRow\u001b[0m\u001b[0;34m<\u001b[0m\u001b[0mnRows\u001b[0m\u001b[0;34m-\u001b[0m\u001b[0;36m1\u001b[0m \u001b[0;32melse\u001b[0m \u001b[0;34m''\u001b[0m\u001b[0;34m)\u001b[0m\u001b[0;34m+\u001b[0m\u001b[0;34m'\\n'\u001b[0m\u001b[0;34m\u001b[0m\u001b[0;34m\u001b[0m\u001b[0m\n",
      "\u001b[0;32m/tmp/ipykernel_1566345/1813656801.py\u001b[0m in \u001b[0;36m_leaf\u001b[0;34m(txt, fmt, em)\u001b[0m\n\u001b[1;32m     65\u001b[0m         \u001b[0;32mif\u001b[0m \u001b[0mhead\u001b[0m \u001b[0;32mis\u001b[0m \u001b[0;32mnot\u001b[0m \u001b[0;32mNone\u001b[0m \u001b[0;32mand\u001b[0m \u001b[0mlen\u001b[0m\u001b[0;34m(\u001b[0m\u001b[0mhead\u001b[0m\u001b[0;34m)\u001b[0m\u001b[0;34m>\u001b[0m\u001b[0;36m0\u001b[0m\u001b[0;34m:\u001b[0m \u001b[0mret\u001b[0m\u001b[0;34m.\u001b[0m\u001b[0mappend\u001b[0m\u001b[0;34m(\u001b[0m\u001b[0m_leaf_txt\u001b[0m\u001b[0;34m(\u001b[0m\u001b[0mhead\u001b[0m\u001b[0;34m)\u001b[0m\u001b[0;34m)\u001b[0m\u001b[0;34m\u001b[0m\u001b[0;34m\u001b[0m\u001b[0m\n\u001b[1;32m     66\u001b[0m         \u001b[0;32mif\u001b[0m \u001b[0mfmt\u001b[0m\u001b[0;34m==\u001b[0m\u001b[0;34m'latex'\u001b[0m\u001b[0;34m:\u001b[0m \u001b[0mret\u001b[0m\u001b[0;34m+=\u001b[0m\u001b[0;34m[\u001b[0m\u001b[0;34mr'\\textbf{\\cite{'\u001b[0m\u001b[0;34m+\u001b[0m\u001b[0mbook\u001b[0m\u001b[0;34m+\u001b[0m\u001b[0;34m'}'\u001b[0m\u001b[0;34m+\u001b[0m\u001b[0;34m(\u001b[0m\u001b[0mloc\u001b[0m \u001b[0;32mif\u001b[0m \u001b[0mloc\u001b[0m \u001b[0;32melse\u001b[0m \u001b[0;34m''\u001b[0m\u001b[0;34m)\u001b[0m\u001b[0;34m+\u001b[0m\u001b[0;34m'}'\u001b[0m\u001b[0;34m]\u001b[0m\u001b[0;34m\u001b[0m\u001b[0;34m\u001b[0m\u001b[0m\n\u001b[0;32m---> 67\u001b[0;31m         \u001b[0;32melif\u001b[0m \u001b[0mfmt\u001b[0m\u001b[0;34m==\u001b[0m\u001b[0;34m'rst'\u001b[0m\u001b[0;34m:\u001b[0m \u001b[0mret\u001b[0m\u001b[0;34m+=\u001b[0m\u001b[0;34m[\u001b[0m\u001b[0;34mf' [{book}]_ '\u001b[0m\u001b[0;34m+\u001b[0m\u001b[0;34m(\u001b[0m\u001b[0;34mf'*{loc.strip()}* '\u001b[0m \u001b[0;32mif\u001b[0m \u001b[0mloc\u001b[0m\u001b[0;34m.\u001b[0m\u001b[0mstrip\u001b[0m\u001b[0;34m(\u001b[0m\u001b[0;34m)\u001b[0m \u001b[0;32melse\u001b[0m \u001b[0;34m' '\u001b[0m\u001b[0;34m)\u001b[0m\u001b[0;34m]\u001b[0m\u001b[0;34m\u001b[0m\u001b[0;34m\u001b[0m\u001b[0m\n\u001b[0m\u001b[1;32m     68\u001b[0m         \u001b[0;32melif\u001b[0m \u001b[0mfmt\u001b[0m\u001b[0;34m==\u001b[0m\u001b[0;34m'docbook'\u001b[0m\u001b[0;34m:\u001b[0m\u001b[0;34m\u001b[0m\u001b[0;34m\u001b[0m\u001b[0m\n\u001b[1;32m     69\u001b[0m             \u001b[0;32mif\u001b[0m \u001b[0mloc\u001b[0m\u001b[0;34m:\u001b[0m \u001b[0mret\u001b[0m\u001b[0;34m+=\u001b[0m\u001b[0;34m[\u001b[0m\u001b[0m_E\u001b[0m\u001b[0;34m(\u001b[0m\u001b[0;34m'phrase'\u001b[0m\u001b[0;34m,\u001b[0m\u001b[0msubs\u001b[0m\u001b[0;34m=\u001b[0m\u001b[0;34m[\u001b[0m\u001b[0m_E\u001b[0m\u001b[0;34m(\u001b[0m\u001b[0;34m'citation'\u001b[0m\u001b[0;34m,\u001b[0m\u001b[0mbook\u001b[0m\u001b[0;34m)\u001b[0m\u001b[0;34m,\u001b[0m\u001b[0m_E\u001b[0m\u001b[0;34m(\u001b[0m\u001b[0;34m'phrase'\u001b[0m\u001b[0;34m,\u001b[0m\u001b[0mloc\u001b[0m\u001b[0;34m)\u001b[0m\u001b[0;34m]\u001b[0m\u001b[0;34m)\u001b[0m\u001b[0;34m]\u001b[0m\u001b[0;34m\u001b[0m\u001b[0;34m\u001b[0m\u001b[0m\n",
      "\u001b[0;31mAttributeError\u001b[0m: 'NoneType' object has no attribute 'strip'"
     ]
    }
   ],
   "source": [
    "\n",
    "def xlsx_to_vism(xlsx,fmt,sheet='Sheet1',pretty_print=False):\n",
    "    assert fmt in ('latex','rst','docbook')\n",
    "    # fmt='latex'\n",
    "    from openpyxl.cell.rich_text import CellRichText\n",
    "    sheet=openpyxl.load_workbook(xlsx,rich_text=True,read_only=True)[sheet]\n",
    "    if fmt=='latex': ret,rawFmt=[],True\n",
    "    elif fmt=='rst': ret,rawFmt=[],True\n",
    "    elif fmt=='docbook': table,rawFmt=_E('informaltable'),False\n",
    "    nRows=len([None for row in sheet])\n",
    "    nCols=0\n",
    "    for iRow,row in enumerate(sheet):\n",
    "        if fmt=='docbook':\n",
    "            if iRow==0: table.append(tGrp:=_E('thead',subs=[tRow:=_E('tr')]))\n",
    "            elif iRow==1: table.append(tGrp:=_E('tbody',subs=[tRow:=_E('tr')]))\n",
    "            else: tGrp.append(tRow:=_E('tr'))\n",
    "        if fmt=='latex': ret+='    '\n",
    "        for cell in row:\n",
    "            nCols=max(cell.column,nCols)\n",
    "            if fmt=='docbook': ret=[]\n",
    "            if fmt=='rst': ret+=('\\n  * - ' if cell.column==1 else '\\n    - ')\n",
    "            if fmt=='latex' and cell.column>1: ret+=' & '\n",
    "            if cell.value is None:\n",
    "                if rawFmt: ret+=''\n",
    "            elif isinstance(cell.value,CellRichText):\n",
    "                for span in cell.value:\n",
    "                    ret+=_leaf(span.text,em=span.font.i,fmt=fmt)\n",
    "            else:\n",
    "                ret+=_leaf(cell.value,em=cell.font.i,fmt=fmt)\n",
    "            if fmt=='docbook': tRow.append(_E('td',subs=ret,valign='top'))\n",
    "        if fmt=='latex': ret+=('\\\\\\\\' if iRow<nRows-1 else '')+'\\n'\n",
    "    if fmt=='latex':\n",
    "        lCols,xCols=('|' if nCols>2 else '').join(nCols*['l']),('|' if nCols>2 else '').join(nCols*['X[l]'])\n",
    "        tblr='longtblr'\n",
    "        heads=','.join([h+r'head={font={\\bfseries}}' for h in ('first','middle','last')])\n",
    "        plastex='\\\\begin{tabular}{'+lCols+'}\\n'+''.join(ret)+'\\\\end{tabular}'\n",
    "        latexLong='\\\\begin{longtblr}{colspec={'+xCols+'},rowhead=1,theme=vismLong}\\n'+''.join(ret)+'\\\\end{longtblr}\\n'\n",
    "        latexShort='\\\\begin{tblr}{colspec={'+xCols+'},rowhead=1}\\n'+''.join(ret)+'\\\\end{tblr}\\n'\n",
    "        return f'\\n\\n\\\\ifplastex\\n{plastex}\\n\\\\else\\n{latexLong if nRows>10 else latexShort}\\\\fi\\n'\n",
    "        \n",
    "    elif fmt=='rst': return '.. list-table::\\n  :header-rows: 1\\n  '+''.join(ret)\n",
    "    return etree.tostring(table,encoding='unicode',pretty_print=pretty_print)\n",
    "for tab in ('raw-intro-ceylon-king-tab','raw-intro-commentaries'): #,raw-intro-):\n",
    "    xlsx=f'{tab}.xlsx'\n",
    "    wb=openpyxl.load_workbook(xlsx,read_only=True)\n",
    "    sheets=[s.title for s in wb]\n",
    "    wb.close()\n",
    "    for fmt in ('docbook','latex','rst'):\n",
    "        for sheet in sheets:\n",
    "            suffix=('-'+sheet if len(sheets)>1 else '')\n",
    "            out={'docbook':f'../docbook/{tab}{suffix}.xml','latex':f'../latex/{tab}{suffix}.tex','rst':f'../sphinx/{tab}{suffix}.rst'}[fmt]\n",
    "            open(out,'w').write(xlsx_to_vism(xlsx,fmt=fmt,sheet=sheet,pretty_print=True))\n",
    "            print(f'→ {out}')"
   ]
  },
  {
   "cell_type": "code",
   "execution_count": null,
   "id": "c1a80645-4575-4843-ae33-3fc2ce10a599",
   "metadata": {},
   "outputs": [],
   "source": []
  }
 ],
 "metadata": {
  "kernelspec": {
   "display_name": "Python 3 (ipykernel)",
   "language": "python",
   "name": "python3"
  },
  "language_info": {
   "codemirror_mode": {
    "name": "ipython",
    "version": 3
   },
   "file_extension": ".py",
   "mimetype": "text/x-python",
   "name": "python",
   "nbconvert_exporter": "python",
   "pygments_lexer": "ipython3",
   "version": "3.10.6"
  }
 },
 "nbformat": 4,
 "nbformat_minor": 5
}
