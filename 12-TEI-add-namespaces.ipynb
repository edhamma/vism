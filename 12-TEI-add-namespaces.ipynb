{
 "cells": [
  {
   "cell_type": "code",
   "execution_count": 57,
   "id": "b02b97aa-f458-4140-b658-95dd397711cb",
   "metadata": {},
   "outputs": [],
   "source": [
    "# add TEI (and other) namespaces to tags and attributes\n",
    "from lxml import etree\n",
    "\n",
    "nsMap={\n",
    "    None:'http://www.tei-c.org/ns/1.0',\n",
    "    'tei':'http://www.tei-c.org/ns/1.0',\n",
    "    'edx':'http://eudoxos.github.io/vism',\n",
    "    'xinclude':'http://www.w3.org/2001/XInclude',\n",
    "    'xml':'http://www.w3.org/XML/1998/namespace',\n",
    "}\n",
    "\n",
    "def tagNs(tag):\n",
    "    if tag in ('TEI','teiHeader','text','front','main',\n",
    "               'back','div','head','p','note','span',\n",
    "               'table','cell','row','list','item',\n",
    "               'lg','l','pb','ptr'): return None\n",
    "    # if tag in ('id',): return 'xml'\n",
    "    if tag in ('xinclude',): return 'xinclude'\n",
    "    if tag in ('bibliography','bibentry','entry','index','glossary','em','IGNORE','introductory'): return 'edx'\n",
    "    raise RuntimeError(f'Unable to find namespace for tag <{tag}>.')\n",
    "def attrNs(att):\n",
    "    if att in ('type','subtype','n','ed','rend','target'): return None\n",
    "    if att in ('y','x','page_id','page_no','pdf_page','abbrev','loc','place','name','size','toc_name',\n",
    "               'subtitle_pali','par_begin','par_end','anchor','reference_existing_footnote',\n",
    "               'comment','start','title','subtitle'): return 'edx'\n",
    "    if att in ('id',): return 'xml'\n",
    "    raise RuntimeError(f'Unable to find namespace for attribute \"{att}\".')\n",
    "def addNs(e):\n",
    "    def _ns(s,t): return ('{'+s+'}' if s is not None else '{}')+t\n",
    "    e.tag=_ns(nsMap[tagNs(e.tag)],e.tag)\n",
    "    for a in list(e.attrib.keys()):\n",
    "        pre=attrNs(a)\n",
    "        if pre is None: continue\n",
    "        e.attrib[_ns(nsMap[pre],a)]=e.attrib[a]\n",
    "        del e.attrib[a]\n",
    "\n",
    "        \n",
    "    \n",
    "#def attribNs(attr):\n",
    "#    if \n",
    "\n",
    "def add_namespaces(fin,fout):\n",
    "    doc0=etree.parse(fin,etree.XMLParser(remove_blank_text=True)).getroot() \n",
    "    # replace root element \n",
    "    doc=etree.Element('{}TEI',nsmap=nsMap)\n",
    "    for e in doc0: doc.append(e)\n",
    "    # add namespaces everywhere\n",
    "    for e in doc.iter(): addNs(e)\n",
    "    etree.cleanup_namespaces(doc,top_nsmap=nsMap)\n",
    "    open(fout,'w').write(etree.tostring(doc,encoding='unicode',pretty_print=True))\n",
    "    \n",
    "add_namespaces('build/book.sectioned.tei','build/book.sectioned.namespaced.tei')\n",
    "    \n",
    "    \n",
    "    \n",
    "\n"
   ]
  },
  {
   "cell_type": "code",
   "execution_count": null,
   "id": "f73dd701-fd76-40ac-b6f2-c8fc20bdc42f",
   "metadata": {},
   "outputs": [],
   "source": []
  }
 ],
 "metadata": {
  "kernelspec": {
   "display_name": "Python 3 (ipykernel)",
   "language": "python",
   "name": "python3"
  },
  "language_info": {
   "codemirror_mode": {
    "name": "ipython",
    "version": 3
   },
   "file_extension": ".py",
   "mimetype": "text/x-python",
   "name": "python",
   "nbconvert_exporter": "python",
   "pygments_lexer": "ipython3",
   "version": "3.10.6"
  }
 },
 "nbformat": 4,
 "nbformat_minor": 5
}
