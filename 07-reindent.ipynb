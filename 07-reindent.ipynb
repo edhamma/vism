{
 "cells": [
  {
   "cell_type": "code",
   "execution_count": 62,
   "id": "2d050232-cd2d-4bc8-ba66-68611e979cfc",
   "metadata": {},
   "outputs": [
    {
     "data": {
      "text/plain": [
       "3591932"
      ]
     },
     "execution_count": 62,
     "metadata": {},
     "output_type": "execute_result"
    }
   ],
   "source": [
    "from lxml import etree\n",
    "book=etree.parse('src/book.6.xml',etree.XMLParser(remove_blank_text=True)).getroot()\n",
    "# re-indentation: no need to do anything\n",
    "if 0:\n",
    "    # verse at the beginning of the paragraph, first line as running text\n",
    "    beginVerse=['IV.66','XVII.161','XVII.210','XVII.212','XVII.218','XVII.230','XVII.237','V.27',]\n",
    "    for a in beginVerse:\n",
    "        pp=book.findall('.//p[@anchor=\"'+a+'\"]')\n",
    "        assert len(pp)==1\n",
    "        p=pp[0]\n",
    "        print(len(p),p[0].tag)\n",
    "        assert (len(p)==1 and p[0].tag=='span') or (len(p)==2 and p[0].tag=='printed_page' and p[1].tag=='span')\n",
    "        v=p.getnext()\n",
    "        assert v.tag=='verse'\n",
    "        for _ in reversed(p): v.insert(0,_)\n",
    "        v.attrib['y']=p.attrib['y']\n",
    "        \n",
    "if 0:\n",
    "    # last line of paragraph broken off\n",
    "    endParaFragment=['II.38','II.42','II.55','II.70','II.74','III.73','III.122','III.127',\n",
    "                     'IV.87',\n",
    "                     'XVII.232','XVII.238','XVII.248','XVII.260','XVII.272','XVII.281',\n",
    "                     'XVII.291','XVIII.7','XX.29','XX.42']\n",
    "    for anchor in endParaFragment:\n",
    "        pp=book.findall('.//p[@anchor=\"'+anchor+'\"]')\n",
    "        assert len(pp)==1\n",
    "        para=pp[0]\n",
    "        # print(anchor,para,para.sourceline)\n",
    "        paraAfter=para.getnext()\n",
    "        while not 'anchor' in paraAfter.attrib: paraAfter=paraAfter.getnext()\n",
    "        para1=paraAfter.getprevious()\n",
    "        para0=para1.getprevious()\n",
    "        #print(paraAfter.attrib['anchor'])\n",
    "        #print(paraLast[-1].tag)\n",
    "        print(anchor,len(para1),[e.tag for e in para1])\n",
    "        print('  ',para0[-1].text)\n",
    "        print('  ',para1[0].text)\n",
    "        assert(para0[-1].tag==para1[0].tag)\n",
    "        para0[-1].text+=' '+para1[0].text\n",
    "        para1.remove(para1[0])\n",
    "        for e in para1: para0.append(e)\n",
    "        # print('   ',len(para0),[e.tag for e in para0])\n",
    "        # print(f'{para[-1].tag=}')\n",
    "\n",
    "if 0:\n",
    "    for p in book.findall('.//p'):\n",
    "        if len(p)>1 or len(p)==0: continue\n",
    "        e0=p[0]\n",
    "        if e0.tag not in ['em','span']: continue\n",
    "        assert e0.text is not None\n",
    "        if len(e0.text)>100: continue\n",
    "        #print(e0.text)\n",
    "        if e0.text.startswith('[') and e0.text.endswith(']') and e0.text[-2]!=':': print(e0.text)\n",
    "        elif 'family' in e0.attrib: print(e0.attrib['family'],e0.text)\n",
    "        \n",
    "if 1:\n",
    "    for p in book.findall('.//p'):\n",
    "        if 'num' not in p.attrib: continue\n",
    "        if len(p)>0: continue\n",
    "        #print(p.attrib['num'])\n",
    "        # p.text='[foo]'\n",
    "        p.append(e:=etree.Element('span'))\n",
    "        e.text='[foo]'\n",
    "        \n",
    "\n",
    "open('src/book.6a.xml','w').write(etree.tostring(book,encoding='unicode',pretty_print=True))"
   ]
  },
  {
   "cell_type": "code",
   "execution_count": 22,
   "id": "b8f650e0-9677-4aa9-97fa-6b3ba95be4a5",
   "metadata": {},
   "outputs": [
    {
     "data": {
      "text/plain": [
       "558539"
      ]
     },
     "execution_count": 22,
     "metadata": {},
     "output_type": "execute_result"
    }
   ],
   "source": [
    "from lxml import etree\n",
    "ix=etree.parse('src/index.xml',etree.XMLParser(remove_blank_text=True)).getroot()\n",
    "\n",
    "def splitEntry(entry,splitter):\n",
    "    assert splitter.tag=='Xspan'\n",
    "    ixs=entry.index(splitter)\n",
    "    ent2=etree.Element('entry',page_id=entry.attrib['page_id'],title=splitter.text.strip())\n",
    "    ent2[:]=entry[ixs+1:]\n",
    "    entry.remove(splitter)\n",
    "    entry.addnext(ent2)\n",
    "    return ent2\n",
    "\n",
    "for e in ix.findall('.//Xspan'):\n",
    "    assert (ent:=e.getparent()).tag=='entry'\n",
    "    if e.text.endswith('('):\n",
    "        assert (n:=e.getnext()).tag=='em'\n",
    "        assert (nn:=e.getnext().getnext()).tag=='span'\n",
    "        e.text=e.text[:-1]\n",
    "        ent2=splitEntry(ent,e)\n",
    "        ent2.insert(0,sp:=etree.Element('span'))\n",
    "        sp.text='('\n",
    "    else:\n",
    "        assert (n:=e.getnext()).tag=='ref'\n",
    "        splitEntry(ent,e)\n",
    "        \n",
    "        \n",
    "        \n",
    "    # assert e.tag=='entry'\n",
    "    # print(e)\n",
    "    \n",
    "\n",
    "open('src/index.2.xml','w').write(etree.tostring(ix,encoding='unicode',pretty_print=True))"
   ]
  },
  {
   "cell_type": "code",
   "execution_count": null,
   "id": "0345df93-deaa-4317-9078-85ca3df47891",
   "metadata": {},
   "outputs": [],
   "source": []
  }
 ],
 "metadata": {
  "kernelspec": {
   "display_name": "Python 3 (ipykernel)",
   "language": "python",
   "name": "python3"
  },
  "language_info": {
   "codemirror_mode": {
    "name": "ipython",
    "version": 3
   },
   "file_extension": ".py",
   "mimetype": "text/x-python",
   "name": "python",
   "nbconvert_exporter": "python",
   "pygments_lexer": "ipython3",
   "version": "3.10.6"
  }
 },
 "nbformat": 4,
 "nbformat_minor": 5
}
